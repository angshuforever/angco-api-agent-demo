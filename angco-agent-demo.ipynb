{
 "cells": [
  {
   "metadata": {},
   "cell_type": "code",
   "source": "print('Lets build our first agent demo - an angel from future.')",
   "id": "87027f656f9f6653",
   "outputs": [],
   "execution_count": null
  },
  {
   "metadata": {},
   "cell_type": "code",
   "source": [
    "# installing all the required libraries\n",
    "!pip install -U ipywidgets phidata openai python-dotenv yfinance packaging duckduckgo-search fastapi uvicorn groq python-docx python-multipart"
   ],
   "id": "e99ec32df0055061",
   "outputs": [],
   "execution_count": null
  },
  {
   "metadata": {},
   "cell_type": "code",
   "source": [
    "'''create a .env file in the same folder to the .ipynb file and inside the file paste your api keys. Please ensure this should not be public and you do not upload this file to any code sharing platform.\n",
    "\n",
    ".env file content\n",
    "OPENAI_API_KEY=<paste the open api key>\n",
    "PHIDATA_API_KEY=<paste the phidata api key>\n",
    "GROQ_API_KEY=<paste the groq api key>'''\n",
    "\n",
    "# code\n",
    "from dotenv import load_dotenv\n",
    "import os\n",
    "\n",
    "# Load environment variables from the .env file\n",
    "load_dotenv()\n",
    "\n",
    "# Access the API_KEY value\n",
    "# OPENAI_API_KEY = os.getenv(\"OPENAI_API_KEY\") -- not needed as we have used groq model for multi agent, if we do not define that then default it will pull 'gpt-4o' model from OpenAI\n",
    "PHIDATA_API_KEY = os.getenv(\"PHIDATA_API_KEY\")\n",
    "GROQ_API_KEY = os.getenv(\"GROQ_API_KEY\")"
   ],
   "id": "941d116f37a13f55",
   "outputs": [],
   "execution_count": null
  },
  {
   "metadata": {},
   "cell_type": "code",
   "source": [
    "from phi.agent import Agent\n",
    "from phi.model.groq import Groq\n",
    "from phi.tools.yfinance import YFinanceTools\n",
    "from phi.tools.duckduckgo import DuckDuckGo"
   ],
   "id": "f616ccdb51f071aa",
   "outputs": [],
   "execution_count": null
  },
  {
   "metadata": {},
   "cell_type": "code",
   "source": [
    "'''\n",
    "# This is a test code to check the setup. It is not required for the Agentic AI demo.\n",
    "\n",
    "import os\n",
    "\n",
    "from groq import Groq\n",
    "\n",
    "client = Groq(\n",
    "    api_key=os.environ.get(\"GROQ_API_KEY\"),\n",
    ")\n",
    "\n",
    "chat_completion = client.chat.completions.create(\n",
    "    messages=[\n",
    "        {\n",
    "            \"role\": \"user\",\n",
    "            \"content\": \"Who is Sachin Tendulkar\",\n",
    "        }\n",
    "    ],\n",
    "    model=\"llama-3.3-70b-versatile\",\n",
    ")\n",
    "\n",
    "print(chat_completion.choices[0].message.content)'''"
   ],
   "id": "47042ced9577bb0b",
   "outputs": [],
   "execution_count": null
  },
  {
   "metadata": {},
   "cell_type": "code",
   "source": [
    "# Agent 1 : Web Search Agent\n",
    "\n",
    "web_search_agent = Agent(\n",
    "    name=\"Web Search Agent\",\n",
    "    role=\"Search the web for the information\",\n",
    "    model=Groq(id=\"llama-3.3-70b-versatile\"),\n",
    "    tools=[DuckDuckGo()],\n",
    "    instructions=[\"Always include the sources\", \"Use tables to display the information\"],\n",
    "    show_tool_calls=True,\n",
    "    markdown=True\n",
    ")"
   ],
   "id": "479a8dd56c26bc44",
   "outputs": [],
   "execution_count": null
  },
  {
   "metadata": {},
   "cell_type": "code",
   "source": [
    "# Agent 2 : Financial Agent\n",
    "\n",
    "financial_agent = Agent(\n",
    "    name=\"Finance AI Agent\",\n",
    "    role=\"Please provide financial information\",\n",
    "    model=Groq(id=\"llama-3.3-70b-versatile\"),\n",
    "    tools=[\n",
    "        YFinanceTools(\n",
    "            stock_price=True,\n",
    "            analyst_recommendations=True,\n",
    "            stock_fundamentals=True,\n",
    "            company_news=True\n",
    "        )\n",
    "    ],\n",
    "    instructions=[\"Use tables to display the information\"],\n",
    "    show_tool_calls=True,\n",
    "    markdown=True\n",
    ")"
   ],
   "id": "f396f1edcce0d3f3",
   "outputs": [],
   "execution_count": null
  },
  {
   "metadata": {},
   "cell_type": "code",
   "source": [
    "# Forming Multi Model AI Agent\n",
    "\n",
    "multi_ai_agents = Agent(\n",
    "    team=[web_search_agent, financial_agent],\n",
    "    model=Groq(id=\"llama-3.3-70b-versatile\"),\n",
    "    instructions=[\"Always include the sources\", \"Use tables to display the information\"],\n",
    "    show_tool_calls=True,\n",
    "    markdown=True\n",
    ")"
   ],
   "id": "7834118439c2cb6a",
   "outputs": [],
   "execution_count": null
  },
  {
   "metadata": {},
   "cell_type": "code",
   "source": [
    "# multi_ai_agents.print_response(\"Summarize analyst recommendations and share the latest news for NVDA\", stream=True)\n",
    "\n",
    "multi_ai_agents.print_response(\"Summarize analyst recommendations and share the latest news for NVDA\")"
   ],
   "id": "66e04e6ba9620c3c",
   "outputs": [],
   "execution_count": null
  },
  {
   "metadata": {},
   "cell_type": "code",
   "source": [
    "import openai\n",
    "import phi.api\n",
    "from phi.model.openai import OpenAIChat\n",
    "from phi.playground import Playground, serve_playground_app\n",
    "import uvicorn\n",
    "import nest_asyncio\n",
    "import multiprocessing"
   ],
   "id": "64d030a0ae088e0a",
   "outputs": [],
   "execution_count": null
  },
  {
   "metadata": {},
   "cell_type": "code",
   "source": [
    "nest_asyncio.apply()\n",
    "app = Playground(agents=[financial_agent, web_search_agent]).get_app()\n",
    "\n",
    "uvicorn.run(app, host=\"0.0.0.0\", port=7777)\n",
    "\n",
    "'''def run_server():\n",
    "    uvicorn.run(app, host=\"0.0.0.0\", port=7777)\n",
    "\n",
    "server_process = multiprocessing.Process(target=run_server)\n",
    "server_process.start()'''"
   ],
   "id": "c8fd673daf6be445",
   "outputs": [],
   "execution_count": null
  }
 ],
 "metadata": {
  "kernelspec": {
   "display_name": "Python 3",
   "language": "python",
   "name": "python3"
  },
  "language_info": {
   "codemirror_mode": {
    "name": "ipython",
    "version": 2
   },
   "file_extension": ".py",
   "mimetype": "text/x-python",
   "name": "python",
   "nbconvert_exporter": "python",
   "pygments_lexer": "ipython2",
   "version": "2.7.6"
  }
 },
 "nbformat": 4,
 "nbformat_minor": 5
}
