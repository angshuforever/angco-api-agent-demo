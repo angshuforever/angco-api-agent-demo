{
 "cells": [
  {
   "cell_type": "code",
   "id": "initial_id",
   "metadata": {
    "collapsed": true
   },
   "source": [
    "# installing all the required libraries\n",
    "!pip install -U ipywidgets phidata openai python-dotenv yfinance packaging duckduckgo-search fastapi uvicorn groq"
   ],
   "outputs": [],
   "execution_count": null
  },
  {
   "metadata": {},
   "cell_type": "code",
   "source": [
    "from dotenv import load_dotenv\n",
    "import os\n",
    "\n",
    "# Load environment variables from the .env file\n",
    "load_dotenv()\n",
    "\n",
    "# Access the API_KEY value\n",
    "OPENAI_API_KEY = os.getenv(\"OPENAI_API_KEY\")\n",
    "PHIDATA_API_KEY = os.getenv(\"PHIDATA_API_KEY\")\n",
    "GROQ_API_KEY = os.getenv(\"GROQ_API_KEY\")"
   ],
   "id": "e52f55bde8fabef",
   "outputs": [],
   "execution_count": null
  },
  {
   "metadata": {},
   "cell_type": "code",
   "source": [
    "from groq import Groq\n",
    "\n",
    "client = Groq(api_key=GROQ_API_KEY)\n",
    "chat_completion = client.chat.completions.create(\n",
    "    messages=[\n",
    "        {\n",
    "            \"role\": \"system\",\n",
    "            \"content\": \"You are Angshu from Ang Corporation. You are a helpful assistant. Answer as Angshu\",\n",
    "        },\n",
    "        {\n",
    "            \"role\": \"user\",\n",
    "            #\"content\": \"What is the stock price of Apple?\"},\n",
    "            \"content\": \"What is a pandora box?\"},\n",
    "    ],\n",
    "    model=\"llama-3.3-70b-versatile\",\n",
    "\n",
    "    # Optional to fine tune the model behavior\n",
    "    temperature=0.5,\n",
    "    max_tokens=100,\n",
    "    top_p=1,\n",
    "    stop=None,\n",
    "    stream=False,\n",
    ")\n",
    "\n",
    "print(chat_completion.choices[0].message.content)\n",
    "\n",
    "'''\n",
    "    if you want to stream the output:\n",
    "        stream=True\n",
    "        for chunk in chat_completion:\n",
    "            print(chunk.choices[0].delta.content, end=\"\")\n",
    "\n",
    "    if you want to inturrpt the generation\n",
    "        stop=\"<text>\",\n",
    "'''"
   ],
   "id": "2cf11bf4f6d64a6a",
   "outputs": [],
   "execution_count": null
  },
  {
   "metadata": {},
   "cell_type": "code",
   "source": "",
   "id": "f2bac1221bcd40f2",
   "outputs": [],
   "execution_count": null
  }
 ],
 "metadata": {
  "kernelspec": {
   "display_name": "Python 3",
   "language": "python",
   "name": "python3"
  },
  "language_info": {
   "codemirror_mode": {
    "name": "ipython",
    "version": 2
   },
   "file_extension": ".py",
   "mimetype": "text/x-python",
   "name": "python",
   "nbconvert_exporter": "python",
   "pygments_lexer": "ipython2",
   "version": "2.7.6"
  }
 },
 "nbformat": 4,
 "nbformat_minor": 5
}
